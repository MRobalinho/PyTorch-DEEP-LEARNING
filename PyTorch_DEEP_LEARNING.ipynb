{
  "nbformat": 4,
  "nbformat_minor": 0,
  "metadata": {
    "colab": {
      "name": "PyTorch - DEEP LEARNING.ipynb",
      "version": "0.3.2",
      "provenance": [],
      "include_colab_link": true
    },
    "kernelspec": {
      "name": "python3",
      "display_name": "Python 3"
    }
  },
  "cells": [
    {
      "cell_type": "markdown",
      "metadata": {
        "id": "view-in-github",
        "colab_type": "text"
      },
      "source": [
        "<a href=\"https://colab.research.google.com/github/MRobalinho/PyTorch-DEEP-LEARNING/blob/master/PyTorch_DEEP_LEARNING.ipynb\" target=\"_parent\"><img src=\"https://colab.research.google.com/assets/colab-badge.svg\" alt=\"Open In Colab\"/></a>"
      ]
    },
    {
      "metadata": {
        "id": "dKh5z4dq9tdB",
        "colab_type": "text"
      },
      "cell_type": "markdown",
      "source": [
        "# PyTorch - DEEP LEARNING WITH PYTORCH \n",
        "\n",
        "## Using MNIST Datasets\n",
        "\n",
        "PyTorch is an open-source machine learning library for Python, based on Torch, used for applications such as natural language processing. It is primarily developed by Facebook's artificial-intelligence research group, and Uber's \"Pyro\" software for probabilistic programming is built on it.\n",
        "\n",
        "**The MNIST dataset**\n",
        "\n",
        "The MNIST dataset was constructed from two datasets of the US National Institute of Standards and Technology (NIST). The training set consists of handwritten digits from 250 different people, 50 percent high school students, and 50 percent employees from the Census Bureau. Note that the test set contains handwritten digits from different people following the same split.\n",
        "\n",
        "The MNIST dataset is publicly available at http://yann.lecun.com/exdb/mnist/ and consists of the following four parts: - Training set images: train-images-idx3-ubyte.gz (9.9 MB, 47 MB unzipped, and 60,000 samples) - Training set labels: train-labels-idx1-ubyte.gz (29 KB, 60 KB unzipped, and 60,000 labels) - Test set images: t10k-images-idx3-ubyte.gz (1.6 MB, 7.8 MB, unzipped and 10,000 samples) - Test set labels: t10k-labels-idx1-ubyte.gz (5 KB, 10 KB unzipped, and 10,000 labels)\n",
        "\n",
        "**PyTorch provides two high-level features:**\n",
        "\n",
        "a) Tensor computation (like NumPy) with strong GPU acceleration\n",
        "\n",
        "b) Deep Neural Networks built on a tape-based autodiff system\n",
        "\n",
        "**To keep things short:**\n",
        "\n",
        "PyTorch consists of 4 main packages:\n",
        "\n",
        "1. torch: a general purpose array library similar to Numpy that can do computations on GPU when the tensor type is cast to (torch.cuda.TensorFloat)\n",
        "\n",
        "2. torch.autograd: a package for building a computational graph and automatically obtaining gradients\n",
        "\n",
        "3. torch.nn: a neural net library with common layers and cost functions\n",
        "\n",
        "4. torch.optim: an optimization package with common optimization algorithms like SGD,Adam, etc\n",
        "\n",
        "**PyTorch Tensors**\n",
        "\n",
        "In terms of programming, Tensors can simply be considered multidimensional arrays. Tensors in PyTorch are similar to NumPy arrays, with the addition being that Tensors can also be used on a GPU that supports CUDA. PyTorch supports various types of Tensors.\n",
        "\n",
        "**References:**\n",
        "\n",
        "[PyTorch](https://pytorch.org/)\n",
        "\n",
        "[Example with MNIST Datasets](https://gist.github.com/reddragon/3fa9c3ee4d10a7be242183d2e98cfc5d)\n",
        "\n",
        "[Git Hsaghir](https://hsaghir.github.io/data_science/pytorch_starter/)\n"
      ]
    },
    {
      "metadata": {
        "id": "2eR-HXoe9WW2",
        "colab_type": "code",
        "colab": {
          "base_uri": "https://localhost:8080/",
          "height": 139
        },
        "outputId": "aa9f6b0c-62c2-451e-bcf0-24ed916b31bd"
      },
      "cell_type": "code",
      "source": [
        "!pip install torch"
      ],
      "execution_count": 2,
      "outputs": [
        {
          "output_type": "stream",
          "text": [
            "Collecting torch\n",
            "\u001b[?25l  Downloading https://files.pythonhosted.org/packages/7e/60/66415660aa46b23b5e1b72bc762e816736ce8d7260213e22365af51e8f9c/torch-1.0.0-cp36-cp36m-manylinux1_x86_64.whl (591.8MB)\n",
            "\u001b[K    100% |████████████████████████████████| 591.8MB 27kB/s \n",
            "tcmalloc: large alloc 1073750016 bytes == 0x61852000 @  0x7f458929d2a4 0x591a07 0x5b5d56 0x502e9a 0x506859 0x502209 0x502f3d 0x506859 0x504c28 0x502540 0x502f3d 0x506859 0x504c28 0x502540 0x502f3d 0x506859 0x504c28 0x502540 0x502f3d 0x507641 0x502209 0x502f3d 0x506859 0x504c28 0x502540 0x502f3d 0x507641 0x504c28 0x502540 0x502f3d 0x507641\n",
            "\u001b[?25hInstalling collected packages: torch\n",
            "Successfully installed torch-1.0.0\n"
          ],
          "name": "stdout"
        }
      ]
    },
    {
      "metadata": {
        "id": "M-0mWRca-wK3",
        "colab_type": "code",
        "colab": {
          "base_uri": "https://localhost:8080/",
          "height": 275
        },
        "outputId": "0a7afdb4-75f5-4656-d4bc-9417d3805ffd"
      },
      "cell_type": "code",
      "source": [
        "!pip install torchvision"
      ],
      "execution_count": 3,
      "outputs": [
        {
          "output_type": "stream",
          "text": [
            "Collecting torchvision\n",
            "\u001b[?25l  Downloading https://files.pythonhosted.org/packages/ca/0d/f00b2885711e08bd71242ebe7b96561e6f6d01fdb4b9dcf4d37e2e13c5e1/torchvision-0.2.1-py2.py3-none-any.whl (54kB)\n",
            "\u001b[K    100% |████████████████████████████████| 61kB 3.9MB/s \n",
            "\u001b[?25hRequirement already satisfied: torch in /usr/local/lib/python3.6/dist-packages (from torchvision) (1.0.0)\n",
            "Requirement already satisfied: six in /usr/local/lib/python3.6/dist-packages (from torchvision) (1.11.0)\n",
            "Collecting pillow>=4.1.1 (from torchvision)\n",
            "\u001b[?25l  Downloading https://files.pythonhosted.org/packages/62/94/5430ebaa83f91cc7a9f687ff5238e26164a779cca2ef9903232268b0a318/Pillow-5.3.0-cp36-cp36m-manylinux1_x86_64.whl (2.0MB)\n",
            "\u001b[K    100% |████████████████████████████████| 2.0MB 14.2MB/s \n",
            "\u001b[?25hRequirement already satisfied: numpy in /usr/local/lib/python3.6/dist-packages (from torchvision) (1.14.6)\n",
            "Installing collected packages: pillow, torchvision\n",
            "  Found existing installation: Pillow 4.0.0\n",
            "    Uninstalling Pillow-4.0.0:\n",
            "      Successfully uninstalled Pillow-4.0.0\n",
            "Successfully installed pillow-5.3.0 torchvision-0.2.1\n"
          ],
          "name": "stdout"
        }
      ]
    },
    {
      "metadata": {
        "id": "impvFxcZ88MN",
        "colab_type": "code",
        "colab": {}
      },
      "cell_type": "code",
      "source": [
        "# Packages\n",
        "import torch\n",
        "import torchvision\n",
        "import torch.nn as nn\n",
        "import torch.nn.functional as F\n",
        "import torchvision.transforms as transforms\n",
        "import matplotlib.pyplot as plt\n",
        "import numpy as np\n",
        "import torch.optim as optim\n",
        "import torchvision.datasets as datasets\n",
        "from torch.autograd import Variable"
      ],
      "execution_count": 0,
      "outputs": []
    },
    {
      "metadata": {
        "id": "YbJq40vHQzQ5",
        "colab_type": "code",
        "colab": {
          "base_uri": "https://localhost:8080/",
          "height": 34
        },
        "outputId": "b282f0be-ff6c-40ab-9a19-d7913123f99b"
      },
      "cell_type": "code",
      "source": [
        "# Print Pytorch Version\n",
        "print(torch.__version__)"
      ],
      "execution_count": 48,
      "outputs": [
        {
          "output_type": "stream",
          "text": [
            "1.0.0\n"
          ],
          "name": "stdout"
        }
      ]
    },
    {
      "metadata": {
        "id": "NQKHz8xx84V6",
        "colab_type": "code",
        "colab": {}
      },
      "cell_type": "code",
      "source": [
        "class Net(nn.Module):\n",
        "    def __init__(self):\n",
        "        super(Net, self).__init__()\n",
        "        self.conv1 = nn.Conv2d(1, 1, 5)\n",
        "        self.conv2 = nn.Conv2d(1, 1, 5)\n",
        "        self.pool = nn.MaxPool2d(2, 2)\n",
        "        self.fc1 = nn.Linear(1 * 10 * 10, 100)\n",
        "        self.fc2 = nn.Linear(100, 10)\n",
        "\n",
        "    def forward(self, x):\n",
        "        x = F.relu((self.conv1(x)))\n",
        "        x = F.relu(F.max_pool2d((self.conv2(x)), 2))\n",
        "        # x = self.pool(x)\n",
        "        # x = F.relu(self.conv3(x))\n",
        "        x = x.view(-1, 1 * 10 * 10)\n",
        "        # x = F.relu(x)\n",
        "        x = F.relu(self.fc1(x))\n",
        "        x = F.relu(self.fc2(x))\n",
        "        return F.log_softmax(x)\n",
        "\n",
        "def unnormalize(img):\n",
        "    img = img / 2 + 0.5\n",
        "    return img\n",
        "\n",
        "def imshow(img):\n",
        "    img = img / 2 + 0.5     # unnormalize\n",
        "    npimg = img.numpy()\n",
        "    plt.imshow(np.transpose(npimg, (1, 2, 0)))"
      ],
      "execution_count": 0,
      "outputs": []
    },
    {
      "metadata": {
        "id": "xLhjDqj9CesI",
        "colab_type": "code",
        "colab": {
          "base_uri": "https://localhost:8080/",
          "height": 34
        },
        "outputId": "ea6a4763-4fa9-4fff-b3f9-e4d67fbf0cad"
      },
      "cell_type": "code",
      "source": [
        "# Basically re-maps the [0,1] pixel to the [-1,1] range so that mean is 0.\n",
        "transform = transforms.Compose(\n",
        "    [transforms.ToTensor(),\n",
        "     transforms.Normalize((0.5, 0.5, 0.5), (0.5, 0.5, 0.5))])\n",
        "\n",
        "# Getting the data\n",
        "print ('Getting Data from datasets.MNIST ----------------')\n",
        "\n",
        "mnist_trainset = datasets.MNIST(root='./data', train=True,\n",
        "                                        download=True, transform=transform)\n",
        "mnist_trainloader = torch.utils.data.DataLoader(mnist_trainset, batch_size=50,\n",
        "                                          shuffle=True, num_workers=2)\n",
        "mnist_testset = datasets.MNIST(root='./data', train=False,\n",
        "                                       download=True, transform=transform)\n",
        "mnist_testloader = torch.utils.data.DataLoader(mnist_testset, batch_size=50,\n",
        "                                         shuffle=False, num_workers=2)"
      ],
      "execution_count": 50,
      "outputs": [
        {
          "output_type": "stream",
          "text": [
            "Getting Data from datasets.MNIST ----------------\n"
          ],
          "name": "stdout"
        }
      ]
    },
    {
      "metadata": {
        "id": "htGgAzfaC9U_",
        "colab_type": "code",
        "colab": {
          "base_uri": "https://localhost:8080/",
          "height": 34
        },
        "outputId": "881416d3-c629-4563-f9b2-ffac7bdb3c0a"
      },
      "cell_type": "code",
      "source": [
        "# First, let's check the number of items in each Python variable.\n",
        "# For the MNIST train set, we use the Python len function to get the number of items.\n",
        "print ('Records to Train: ', len(mnist_trainset), '  ; Records to Test: ', len(mnist_testset))"
      ],
      "execution_count": 51,
      "outputs": [
        {
          "output_type": "stream",
          "text": [
            "Records to Train:  60000   ; Records to Test:  10000\n"
          ],
          "name": "stdout"
        }
      ]
    },
    {
      "metadata": {
        "id": "ghYRkJ_8SyFT",
        "colab_type": "code",
        "colab": {
          "base_uri": "https://localhost:8080/",
          "height": 1938
        },
        "outputId": "ae488be0-215d-4c3d-8377-1dc2c9be7532"
      },
      "cell_type": "code",
      "source": [
        "# let's explore what those items actually are.\n",
        "# look at the first item in the MNIST train set variable.\n",
        "mnist_trainset[0]"
      ],
      "execution_count": 52,
      "outputs": [
        {
          "output_type": "execute_result",
          "data": {
            "text/plain": [
              "(tensor([[[-1.0000, -1.0000, -1.0000, -1.0000, -1.0000, -1.0000, -1.0000,\n",
              "           -1.0000, -1.0000, -1.0000, -1.0000, -1.0000, -1.0000, -1.0000,\n",
              "           -1.0000, -1.0000, -1.0000, -1.0000, -1.0000, -1.0000, -1.0000,\n",
              "           -1.0000, -1.0000, -1.0000, -1.0000, -1.0000, -1.0000, -1.0000],\n",
              "          [-1.0000, -1.0000, -1.0000, -1.0000, -1.0000, -1.0000, -1.0000,\n",
              "           -1.0000, -1.0000, -1.0000, -1.0000, -1.0000, -1.0000, -1.0000,\n",
              "           -1.0000, -1.0000, -1.0000, -1.0000, -1.0000, -1.0000, -1.0000,\n",
              "           -1.0000, -1.0000, -1.0000, -1.0000, -1.0000, -1.0000, -1.0000],\n",
              "          [-1.0000, -1.0000, -1.0000, -1.0000, -1.0000, -1.0000, -1.0000,\n",
              "           -1.0000, -1.0000, -1.0000, -1.0000, -1.0000, -1.0000, -1.0000,\n",
              "           -1.0000, -1.0000, -1.0000, -1.0000, -1.0000, -1.0000, -1.0000,\n",
              "           -1.0000, -1.0000, -1.0000, -1.0000, -1.0000, -1.0000, -1.0000],\n",
              "          [-1.0000, -1.0000, -1.0000, -1.0000, -1.0000, -1.0000, -1.0000,\n",
              "           -1.0000, -1.0000, -1.0000, -1.0000, -1.0000, -1.0000, -1.0000,\n",
              "           -1.0000, -1.0000, -1.0000, -1.0000, -1.0000, -1.0000, -1.0000,\n",
              "           -1.0000, -1.0000, -1.0000, -1.0000, -1.0000, -1.0000, -1.0000],\n",
              "          [-1.0000, -1.0000, -1.0000, -1.0000, -1.0000, -1.0000, -1.0000,\n",
              "           -1.0000, -1.0000, -1.0000, -1.0000, -1.0000, -1.0000, -1.0000,\n",
              "           -1.0000, -1.0000, -1.0000, -1.0000, -1.0000, -1.0000, -1.0000,\n",
              "           -1.0000, -1.0000, -1.0000, -1.0000, -1.0000, -1.0000, -1.0000],\n",
              "          [-1.0000, -1.0000, -1.0000, -1.0000, -1.0000, -1.0000, -1.0000,\n",
              "           -1.0000, -1.0000, -1.0000, -1.0000, -1.0000, -0.9765, -0.8588,\n",
              "           -0.8588, -0.8588, -0.0118,  0.0667,  0.3725, -0.7961,  0.3020,\n",
              "            1.0000,  0.9373, -0.0039, -1.0000, -1.0000, -1.0000, -1.0000],\n",
              "          [-1.0000, -1.0000, -1.0000, -1.0000, -1.0000, -1.0000, -1.0000,\n",
              "           -1.0000, -0.7647, -0.7176, -0.2627,  0.2078,  0.3333,  0.9843,\n",
              "            0.9843,  0.9843,  0.9843,  0.9843,  0.7647,  0.3490,  0.9843,\n",
              "            0.8980,  0.5294, -0.4980, -1.0000, -1.0000, -1.0000, -1.0000],\n",
              "          [-1.0000, -1.0000, -1.0000, -1.0000, -1.0000, -1.0000, -1.0000,\n",
              "           -0.6157,  0.8667,  0.9843,  0.9843,  0.9843,  0.9843,  0.9843,\n",
              "            0.9843,  0.9843,  0.9843,  0.9686, -0.2706, -0.3569, -0.3569,\n",
              "           -0.5608, -0.6941, -1.0000, -1.0000, -1.0000, -1.0000, -1.0000],\n",
              "          [-1.0000, -1.0000, -1.0000, -1.0000, -1.0000, -1.0000, -1.0000,\n",
              "           -0.8588,  0.7176,  0.9843,  0.9843,  0.9843,  0.9843,  0.9843,\n",
              "            0.5529,  0.4275,  0.9373,  0.8902, -1.0000, -1.0000, -1.0000,\n",
              "           -1.0000, -1.0000, -1.0000, -1.0000, -1.0000, -1.0000, -1.0000],\n",
              "          [-1.0000, -1.0000, -1.0000, -1.0000, -1.0000, -1.0000, -1.0000,\n",
              "           -1.0000, -0.3725,  0.2235, -0.1608,  0.9843,  0.9843,  0.6078,\n",
              "           -0.9137, -1.0000, -0.6627,  0.2078, -1.0000, -1.0000, -1.0000,\n",
              "           -1.0000, -1.0000, -1.0000, -1.0000, -1.0000, -1.0000, -1.0000],\n",
              "          [-1.0000, -1.0000, -1.0000, -1.0000, -1.0000, -1.0000, -1.0000,\n",
              "           -1.0000, -1.0000, -0.8902, -0.9922,  0.2078,  0.9843, -0.2941,\n",
              "           -1.0000, -1.0000, -1.0000, -1.0000, -1.0000, -1.0000, -1.0000,\n",
              "           -1.0000, -1.0000, -1.0000, -1.0000, -1.0000, -1.0000, -1.0000],\n",
              "          [-1.0000, -1.0000, -1.0000, -1.0000, -1.0000, -1.0000, -1.0000,\n",
              "           -1.0000, -1.0000, -1.0000, -1.0000,  0.0902,  0.9843,  0.4902,\n",
              "           -0.9843, -1.0000, -1.0000, -1.0000, -1.0000, -1.0000, -1.0000,\n",
              "           -1.0000, -1.0000, -1.0000, -1.0000, -1.0000, -1.0000, -1.0000],\n",
              "          [-1.0000, -1.0000, -1.0000, -1.0000, -1.0000, -1.0000, -1.0000,\n",
              "           -1.0000, -1.0000, -1.0000, -1.0000, -0.9137,  0.4902,  0.9843,\n",
              "           -0.4510, -1.0000, -1.0000, -1.0000, -1.0000, -1.0000, -1.0000,\n",
              "           -1.0000, -1.0000, -1.0000, -1.0000, -1.0000, -1.0000, -1.0000],\n",
              "          [-1.0000, -1.0000, -1.0000, -1.0000, -1.0000, -1.0000, -1.0000,\n",
              "           -1.0000, -1.0000, -1.0000, -1.0000, -1.0000, -0.7255,  0.8902,\n",
              "            0.7647,  0.2549, -0.1529, -0.9922, -1.0000, -1.0000, -1.0000,\n",
              "           -1.0000, -1.0000, -1.0000, -1.0000, -1.0000, -1.0000, -1.0000],\n",
              "          [-1.0000, -1.0000, -1.0000, -1.0000, -1.0000, -1.0000, -1.0000,\n",
              "           -1.0000, -1.0000, -1.0000, -1.0000, -1.0000, -1.0000, -0.3647,\n",
              "            0.8824,  0.9843,  0.9843, -0.0667, -0.8039, -1.0000, -1.0000,\n",
              "           -1.0000, -1.0000, -1.0000, -1.0000, -1.0000, -1.0000, -1.0000],\n",
              "          [-1.0000, -1.0000, -1.0000, -1.0000, -1.0000, -1.0000, -1.0000,\n",
              "           -1.0000, -1.0000, -1.0000, -1.0000, -1.0000, -1.0000, -1.0000,\n",
              "           -0.6471,  0.4588,  0.9843,  0.9843,  0.1765, -0.7882, -1.0000,\n",
              "           -1.0000, -1.0000, -1.0000, -1.0000, -1.0000, -1.0000, -1.0000],\n",
              "          [-1.0000, -1.0000, -1.0000, -1.0000, -1.0000, -1.0000, -1.0000,\n",
              "           -1.0000, -1.0000, -1.0000, -1.0000, -1.0000, -1.0000, -1.0000,\n",
              "           -1.0000, -0.8745, -0.2706,  0.9765,  0.9843,  0.4667, -1.0000,\n",
              "           -1.0000, -1.0000, -1.0000, -1.0000, -1.0000, -1.0000, -1.0000],\n",
              "          [-1.0000, -1.0000, -1.0000, -1.0000, -1.0000, -1.0000, -1.0000,\n",
              "           -1.0000, -1.0000, -1.0000, -1.0000, -1.0000, -1.0000, -1.0000,\n",
              "           -1.0000, -1.0000, -1.0000,  0.9529,  0.9843,  0.9529, -0.4980,\n",
              "           -1.0000, -1.0000, -1.0000, -1.0000, -1.0000, -1.0000, -1.0000],\n",
              "          [-1.0000, -1.0000, -1.0000, -1.0000, -1.0000, -1.0000, -1.0000,\n",
              "           -1.0000, -1.0000, -1.0000, -1.0000, -1.0000, -1.0000, -1.0000,\n",
              "           -0.6392,  0.0196,  0.4353,  0.9843,  0.9843,  0.6235, -0.9843,\n",
              "           -1.0000, -1.0000, -1.0000, -1.0000, -1.0000, -1.0000, -1.0000],\n",
              "          [-1.0000, -1.0000, -1.0000, -1.0000, -1.0000, -1.0000, -1.0000,\n",
              "           -1.0000, -1.0000, -1.0000, -1.0000, -1.0000, -0.6941,  0.1608,\n",
              "            0.7961,  0.9843,  0.9843,  0.9843,  0.9608,  0.4275, -1.0000,\n",
              "           -1.0000, -1.0000, -1.0000, -1.0000, -1.0000, -1.0000, -1.0000],\n",
              "          [-1.0000, -1.0000, -1.0000, -1.0000, -1.0000, -1.0000, -1.0000,\n",
              "           -1.0000, -1.0000, -1.0000, -0.8118, -0.1059,  0.7333,  0.9843,\n",
              "            0.9843,  0.9843,  0.9843,  0.5765, -0.3882, -1.0000, -1.0000,\n",
              "           -1.0000, -1.0000, -1.0000, -1.0000, -1.0000, -1.0000, -1.0000],\n",
              "          [-1.0000, -1.0000, -1.0000, -1.0000, -1.0000, -1.0000, -1.0000,\n",
              "           -1.0000, -0.8196, -0.4824,  0.6706,  0.9843,  0.9843,  0.9843,\n",
              "            0.9843,  0.5529, -0.3647, -0.9843, -1.0000, -1.0000, -1.0000,\n",
              "           -1.0000, -1.0000, -1.0000, -1.0000, -1.0000, -1.0000, -1.0000],\n",
              "          [-1.0000, -1.0000, -1.0000, -1.0000, -1.0000, -1.0000, -0.8588,\n",
              "            0.3412,  0.7176,  0.9843,  0.9843,  0.9843,  0.9843,  0.5294,\n",
              "           -0.3725, -0.9294, -1.0000, -1.0000, -1.0000, -1.0000, -1.0000,\n",
              "           -1.0000, -1.0000, -1.0000, -1.0000, -1.0000, -1.0000, -1.0000],\n",
              "          [-1.0000, -1.0000, -1.0000, -1.0000, -0.5686,  0.3490,  0.7725,\n",
              "            0.9843,  0.9843,  0.9843,  0.9843,  0.9137,  0.0431, -0.9137,\n",
              "           -1.0000, -1.0000, -1.0000, -1.0000, -1.0000, -1.0000, -1.0000,\n",
              "           -1.0000, -1.0000, -1.0000, -1.0000, -1.0000, -1.0000, -1.0000],\n",
              "          [-1.0000, -1.0000, -1.0000, -1.0000,  0.0667,  0.9843,  0.9843,\n",
              "            0.9843,  0.6627,  0.0588,  0.0353, -0.8745, -1.0000, -1.0000,\n",
              "           -1.0000, -1.0000, -1.0000, -1.0000, -1.0000, -1.0000, -1.0000,\n",
              "           -1.0000, -1.0000, -1.0000, -1.0000, -1.0000, -1.0000, -1.0000],\n",
              "          [-1.0000, -1.0000, -1.0000, -1.0000, -1.0000, -1.0000, -1.0000,\n",
              "           -1.0000, -1.0000, -1.0000, -1.0000, -1.0000, -1.0000, -1.0000,\n",
              "           -1.0000, -1.0000, -1.0000, -1.0000, -1.0000, -1.0000, -1.0000,\n",
              "           -1.0000, -1.0000, -1.0000, -1.0000, -1.0000, -1.0000, -1.0000],\n",
              "          [-1.0000, -1.0000, -1.0000, -1.0000, -1.0000, -1.0000, -1.0000,\n",
              "           -1.0000, -1.0000, -1.0000, -1.0000, -1.0000, -1.0000, -1.0000,\n",
              "           -1.0000, -1.0000, -1.0000, -1.0000, -1.0000, -1.0000, -1.0000,\n",
              "           -1.0000, -1.0000, -1.0000, -1.0000, -1.0000, -1.0000, -1.0000],\n",
              "          [-1.0000, -1.0000, -1.0000, -1.0000, -1.0000, -1.0000, -1.0000,\n",
              "           -1.0000, -1.0000, -1.0000, -1.0000, -1.0000, -1.0000, -1.0000,\n",
              "           -1.0000, -1.0000, -1.0000, -1.0000, -1.0000, -1.0000, -1.0000,\n",
              "           -1.0000, -1.0000, -1.0000, -1.0000, -1.0000, -1.0000, -1.0000]]]),\n",
              " tensor(5))"
            ]
          },
          "metadata": {
            "tags": []
          },
          "execution_count": 52
        }
      ]
    },
    {
      "metadata": {
        "id": "1uFGGfHYTQHQ",
        "colab_type": "code",
        "colab": {
          "base_uri": "https://localhost:8080/",
          "height": 34
        },
        "outputId": "39c50938-5f05-45f0-bb9b-3f3e7729fd59"
      },
      "cell_type": "code",
      "source": [
        "# We see two things - a PIL image item, then a comma, and a number.\n",
        "type(mnist_trainset[0])"
      ],
      "execution_count": 56,
      "outputs": [
        {
          "output_type": "execute_result",
          "data": {
            "text/plain": [
              "tuple"
            ]
          },
          "metadata": {
            "tags": []
          },
          "execution_count": 56
        }
      ]
    },
    {
      "metadata": {
        "id": "k3ldMGfIUK5I",
        "colab_type": "code",
        "colab": {
          "base_uri": "https://localhost:8080/",
          "height": 34
        },
        "outputId": "8ee2284a-fc40-4efe-bb55-fa30077e1bfd"
      },
      "cell_type": "code",
      "source": [
        "# use the Python variable assignment convention to get the image and integer into two separate Python variables.\n",
        "\n",
        "index_image = 5        # Test to print image , select your index\n",
        "\n",
        "train_image_x, train_target_x = mnist_trainset[index_image]\n",
        "\n",
        "# let's look at the image using PIL show operation.\n",
        "print('The image in the dataset MNIST at Index: ', index_image, '  , is number: ', train_target_x)"
      ],
      "execution_count": 74,
      "outputs": [
        {
          "output_type": "stream",
          "text": [
            "The image in the dataset MNIST at Index:  5   , is number:  tensor(2)\n"
          ],
          "name": "stdout"
        }
      ]
    },
    {
      "metadata": {
        "id": "ioRSmlFVYXpX",
        "colab_type": "code",
        "colab": {
          "base_uri": "https://localhost:8080/",
          "height": 857
        },
        "outputId": "2be00211-3ea3-48d6-84f6-5e73b9347fe9"
      },
      "cell_type": "code",
      "source": [
        "# https://matplotlib.org/users/image_tutorial.html#plotting-numpy-arrays-as-images\n",
        "# Print images fro MNIST datasets\n",
        "\n",
        "import matplotlib.pyplot as plt\n",
        "import matplotlib.image as mpimg\n",
        "import numpy as np\n",
        "\n",
        "i = 0\n",
        "while i < 10:\n",
        "  index_image = i\n",
        "  i = i + 1\n",
        "  train_image_x, train_target_x = mnist_trainset[index_image]\n",
        "  print('--------------------------------------------------------------------------')\n",
        "  print('--- Print image for index: ', index_image, '  , is number: ', train_target_x)\n",
        "  print('--------------------------------------------------------------------------')\n",
        "  plt.imshow(train_image_x[0])\n"
      ],
      "execution_count": 164,
      "outputs": [
        {
          "output_type": "stream",
          "text": [
            "--------------------------------------------------------------------------\n",
            "--- Print image for index:  0   , is number:  tensor(5)\n",
            "--------------------------------------------------------------------------\n",
            "--------------------------------------------------------------------------\n",
            "--- Print image for index:  1   , is number:  tensor(0)\n",
            "--------------------------------------------------------------------------\n",
            "--------------------------------------------------------------------------\n",
            "--- Print image for index:  2   , is number:  tensor(4)\n",
            "--------------------------------------------------------------------------\n",
            "--------------------------------------------------------------------------\n",
            "--- Print image for index:  3   , is number:  tensor(1)\n",
            "--------------------------------------------------------------------------\n",
            "--------------------------------------------------------------------------\n",
            "--- Print image for index:  4   , is number:  tensor(9)\n",
            "--------------------------------------------------------------------------\n",
            "--------------------------------------------------------------------------\n",
            "--- Print image for index:  5   , is number:  tensor(2)\n",
            "--------------------------------------------------------------------------\n",
            "--------------------------------------------------------------------------\n",
            "--- Print image for index:  6   , is number:  tensor(1)\n",
            "--------------------------------------------------------------------------\n",
            "--------------------------------------------------------------------------\n",
            "--- Print image for index:  7   , is number:  tensor(3)\n",
            "--------------------------------------------------------------------------\n",
            "--------------------------------------------------------------------------\n",
            "--- Print image for index:  8   , is number:  tensor(1)\n",
            "--------------------------------------------------------------------------\n",
            "--------------------------------------------------------------------------\n",
            "--- Print image for index:  9   , is number:  tensor(4)\n",
            "--------------------------------------------------------------------------\n"
          ],
          "name": "stdout"
        },
        {
          "output_type": "display_data",
          "data": {
            "image/png": "[encoded data removed]",
            "text/plain": [
              "<matplotlib.figure.Figure at 0x7f8a584bffd0>"
            ]
          },
          "metadata": {
            "tags": []
          }
        }
      ]
    },
    {
      "metadata": {
        "id": "7zvn8KZfqIGW",
        "colab_type": "code",
        "colab": {
          "base_uri": "https://localhost:8080/",
          "height": 509
        },
        "outputId": "55f86485-13a6-4b37-f597-b44ed2b2dd78"
      },
      "cell_type": "code",
      "source": [
        "# Plot / Subplots Images\n",
        "fig, axes = plt.subplots(6,3, \n",
        "                         figsize=(7,7),\n",
        "                         sharex=True, sharey=True,\n",
        "                         subplot_kw=dict(adjustable='box-forced', aspect='equal')) #https://stackoverflow.com/q/44703433/1870832\n",
        "\n",
        "# --- Plot Images  - 18 images\n",
        "i = 0\n",
        "while i < 18:\n",
        "  index_image = i\n",
        "\n",
        "  train_image_x, train_target_x = mnist_trainset[index_image]\n",
        "  images_to_plot = train_image_x[0]\n",
        "  \n",
        "  # axes (subplot) objects are stored in 2d array, accessed with axes[row,col]\n",
        "  subplot_row = i//3    # floor division discards the fractional part\n",
        "  subplot_col = i%3     # the % operator returns the remainder of the division\n",
        "  \n",
        "  # print('i=', i ,'   Row=',subplot_row, '   col=',subplot_col)\n",
        "  ax = axes[subplot_row, subplot_col]\n",
        "\n",
        "  # plot image on subplot\n",
        "\n",
        "  ax.imshow(images_to_plot, cmap='gray_r')\n",
        "   \n",
        "  ax.set_title(train_target_x )\n",
        "  ax.set_xbound([0,28])\n",
        "    \n",
        "  i = i + 1\n",
        "\n",
        "plt.tight_layout()\n",
        "plt.show()\n"
      ],
      "execution_count": 173,
      "outputs": [
        {
          "output_type": "display_data",
          "data": {
            "image/png": "[encoded data removed]",
            "text/plain": [
              "<matplotlib.figure.Figure at 0x7f8a5b465ac8>"
            ]
          },
          "metadata": {
            "tags": []
          }
        }
      ]
    },
    {
      "metadata": {
        "id": "ukg0LSvw4wDe",
        "colab_type": "code",
        "colab": {}
      },
      "cell_type": "code",
      "source": [
        "\n",
        "\n"
      ],
      "execution_count": 0,
      "outputs": []
    },
    {
      "metadata": {
        "id": "7X90xhE99FiA",
        "colab_type": "code",
        "colab": {
          "base_uri": "https://localhost:8080/",
          "height": 2111
        },
        "outputId": "ce84322f-d79a-46a1-d994-a0d99e2350f6"
      },
      "cell_type": "code",
      "source": [
        "net = Net()\n",
        "criterion = nn.CrossEntropyLoss()\n",
        "optimizer = optim.SGD(net.parameters(), lr=0.001, momentum=0.5)\n",
        "\n",
        "# zero the parameter gradients\n",
        "optimizer.zero_grad()\n",
        "\n",
        "number_epoches = 10  # - Put number epoches\n",
        "\n",
        "print('Training with datasets.MNIST ------ Number Epoches :', number_epoches)\n",
        "\n",
        "for epoch in range(number_epoches):  # loop over the dataset multiple times \n",
        "\n",
        "    running_loss = 0.0\n",
        "    for i, data in enumerate(mnist_trainloader, 0):\n",
        "        # get the inputs\n",
        "        inputs, labels = data\n",
        "        # print inputs.numpy().shape\n",
        "\n",
        "        # wrap them in Variable\n",
        "        inputs, labels = Variable(inputs), Variable(labels)\n",
        "\n",
        "        # zero the parameter gradients\n",
        "        optimizer.zero_grad()\n",
        "\n",
        "        # forward + backward + optimize\n",
        "        outputs = net(inputs)\n",
        "        loss = criterion(outputs, labels)\n",
        "        loss.backward()\n",
        "        optimizer.step()\n",
        "\n",
        "        # print statistics\n",
        "        running_loss += loss.item()\n",
        "        if i % 100 == 99:    # print every 2000 mini-batches\n",
        "            print('Epoch:','[%d, %5d] loss in the batch: %.3f' %\n",
        "                  (epoch + 1, i + 1, running_loss / 100))\n",
        "            running_loss = 0.0\n"
      ],
      "execution_count": 175,
      "outputs": [
        {
          "output_type": "stream",
          "text": [
            "Training with datasets.MNIST ------ Number Epoches : 10\n"
          ],
          "name": "stdout"
        },
        {
          "output_type": "stream",
          "text": [
            "/usr/local/lib/python3.6/dist-packages/ipykernel_launcher.py:19: UserWarning: Implicit dimension choice for log_softmax has been deprecated. Change the call to include dim=X as an argument.\n"
          ],
          "name": "stderr"
        },
        {
          "output_type": "stream",
          "text": [
            "Epoch: [1,   100] loss in the batch: 2.303\n",
            "Epoch: [1,   200] loss in the batch: 2.303\n",
            "Epoch: [1,   300] loss in the batch: 2.301\n",
            "Epoch: [1,   400] loss in the batch: 2.300\n",
            "Epoch: [1,   500] loss in the batch: 2.299\n",
            "Epoch: [1,   600] loss in the batch: 2.295\n",
            "Epoch: [1,   700] loss in the batch: 2.293\n",
            "Epoch: [1,   800] loss in the batch: 2.289\n",
            "Epoch: [1,   900] loss in the batch: 2.284\n",
            "Epoch: [1,  1000] loss in the batch: 2.275\n",
            "Epoch: [1,  1100] loss in the batch: 2.266\n",
            "Epoch: [1,  1200] loss in the batch: 2.251\n",
            "Epoch: [2,   100] loss in the batch: 2.222\n",
            "Epoch: [2,   200] loss in the batch: 2.178\n",
            "Epoch: [2,   300] loss in the batch: 2.090\n",
            "Epoch: [2,   400] loss in the batch: 1.949\n",
            "Epoch: [2,   500] loss in the batch: 1.734\n",
            "Epoch: [2,   600] loss in the batch: 1.481\n",
            "Epoch: [2,   700] loss in the batch: 1.293\n",
            "Epoch: [2,   800] loss in the batch: 1.144\n",
            "Epoch: [2,   900] loss in the batch: 1.004\n",
            "Epoch: [2,  1000] loss in the batch: 0.950\n",
            "Epoch: [2,  1100] loss in the batch: 0.893\n",
            "Epoch: [2,  1200] loss in the batch: 0.865\n",
            "Epoch: [3,   100] loss in the batch: 0.818\n",
            "Epoch: [3,   200] loss in the batch: 0.776\n",
            "Epoch: [3,   300] loss in the batch: 0.757\n",
            "Epoch: [3,   400] loss in the batch: 0.761\n",
            "Epoch: [3,   500] loss in the batch: 0.742\n",
            "Epoch: [3,   600] loss in the batch: 0.700\n",
            "Epoch: [3,   700] loss in the batch: 0.708\n",
            "Epoch: [3,   800] loss in the batch: 0.705\n",
            "Epoch: [3,   900] loss in the batch: 0.684\n",
            "Epoch: [3,  1000] loss in the batch: 0.659\n",
            "Epoch: [3,  1100] loss in the batch: 0.654\n",
            "Epoch: [3,  1200] loss in the batch: 0.628\n",
            "Epoch: [4,   100] loss in the batch: 0.648\n",
            "Epoch: [4,   200] loss in the batch: 0.636\n",
            "Epoch: [4,   300] loss in the batch: 0.640\n",
            "Epoch: [4,   400] loss in the batch: 0.617\n",
            "Epoch: [4,   500] loss in the batch: 0.594\n",
            "Epoch: [4,   600] loss in the batch: 0.635\n",
            "Epoch: [4,   700] loss in the batch: 0.512\n",
            "Epoch: [4,   800] loss in the batch: 0.414\n",
            "Epoch: [4,   900] loss in the batch: 0.401\n",
            "Epoch: [4,  1000] loss in the batch: 0.402\n",
            "Epoch: [4,  1100] loss in the batch: 0.400\n",
            "Epoch: [4,  1200] loss in the batch: 0.346\n",
            "Epoch: [5,   100] loss in the batch: 0.358\n",
            "Epoch: [5,   200] loss in the batch: 0.357\n",
            "Epoch: [5,   300] loss in the batch: 0.336\n",
            "Epoch: [5,   400] loss in the batch: 0.318\n",
            "Epoch: [5,   500] loss in the batch: 0.318\n",
            "Epoch: [5,   600] loss in the batch: 0.311\n",
            "Epoch: [5,   700] loss in the batch: 0.307\n",
            "Epoch: [5,   800] loss in the batch: 0.334\n",
            "Epoch: [5,   900] loss in the batch: 0.294\n",
            "Epoch: [5,  1000] loss in the batch: 0.288\n",
            "Epoch: [5,  1100] loss in the batch: 0.312\n",
            "Epoch: [5,  1200] loss in the batch: 0.300\n",
            "Epoch: [6,   100] loss in the batch: 0.306\n",
            "Epoch: [6,   200] loss in the batch: 0.273\n",
            "Epoch: [6,   300] loss in the batch: 0.296\n",
            "Epoch: [6,   400] loss in the batch: 0.299\n",
            "Epoch: [6,   500] loss in the batch: 0.272\n",
            "Epoch: [6,   600] loss in the batch: 0.268\n",
            "Epoch: [6,   700] loss in the batch: 0.272\n",
            "Epoch: [6,   800] loss in the batch: 0.264\n",
            "Epoch: [6,   900] loss in the batch: 0.278\n",
            "Epoch: [6,  1000] loss in the batch: 0.259\n",
            "Epoch: [6,  1100] loss in the batch: 0.253\n",
            "Epoch: [6,  1200] loss in the batch: 0.261\n",
            "Epoch: [7,   100] loss in the batch: 0.257\n",
            "Epoch: [7,   200] loss in the batch: 0.259\n",
            "Epoch: [7,   300] loss in the batch: 0.248\n",
            "Epoch: [7,   400] loss in the batch: 0.256\n",
            "Epoch: [7,   500] loss in the batch: 0.252\n",
            "Epoch: [7,   600] loss in the batch: 0.246\n",
            "Epoch: [7,   700] loss in the batch: 0.243\n",
            "Epoch: [7,   800] loss in the batch: 0.250\n",
            "Epoch: [7,   900] loss in the batch: 0.234\n",
            "Epoch: [7,  1000] loss in the batch: 0.244\n",
            "Epoch: [7,  1100] loss in the batch: 0.259\n",
            "Epoch: [7,  1200] loss in the batch: 0.227\n",
            "Epoch: [8,   100] loss in the batch: 0.232\n",
            "Epoch: [8,   200] loss in the batch: 0.228\n",
            "Epoch: [8,   300] loss in the batch: 0.248\n",
            "Epoch: [8,   400] loss in the batch: 0.220\n",
            "Epoch: [8,   500] loss in the batch: 0.230\n",
            "Epoch: [8,   600] loss in the batch: 0.227\n",
            "Epoch: [8,   700] loss in the batch: 0.214\n",
            "Epoch: [8,   800] loss in the batch: 0.237\n",
            "Epoch: [8,   900] loss in the batch: 0.213\n",
            "Epoch: [8,  1000] loss in the batch: 0.244\n",
            "Epoch: [8,  1100] loss in the batch: 0.219\n",
            "Epoch: [8,  1200] loss in the batch: 0.213\n",
            "Epoch: [9,   100] loss in the batch: 0.207\n",
            "Epoch: [9,   200] loss in the batch: 0.221\n",
            "Epoch: [9,   300] loss in the batch: 0.203\n",
            "Epoch: [9,   400] loss in the batch: 0.201\n",
            "Epoch: [9,   500] loss in the batch: 0.211\n",
            "Epoch: [9,   600] loss in the batch: 0.226\n",
            "Epoch: [9,   700] loss in the batch: 0.220\n",
            "Epoch: [9,   800] loss in the batch: 0.214\n",
            "Epoch: [9,   900] loss in the batch: 0.216\n",
            "Epoch: [9,  1000] loss in the batch: 0.211\n",
            "Epoch: [9,  1100] loss in the batch: 0.193\n",
            "Epoch: [9,  1200] loss in the batch: 0.200\n",
            "Epoch: [10,   100] loss in the batch: 0.201\n",
            "Epoch: [10,   200] loss in the batch: 0.190\n",
            "Epoch: [10,   300] loss in the batch: 0.225\n",
            "Epoch: [10,   400] loss in the batch: 0.214\n",
            "Epoch: [10,   500] loss in the batch: 0.199\n",
            "Epoch: [10,   600] loss in the batch: 0.177\n",
            "Epoch: [10,   700] loss in the batch: 0.192\n",
            "Epoch: [10,   800] loss in the batch: 0.203\n",
            "Epoch: [10,   900] loss in the batch: 0.192\n",
            "Epoch: [10,  1000] loss in the batch: 0.187\n",
            "Epoch: [10,  1100] loss in the batch: 0.203\n",
            "Epoch: [10,  1200] loss in the batch: 0.180\n"
          ],
          "name": "stdout"
        }
      ]
    },
    {
      "metadata": {
        "id": "8M9brpngEGwl",
        "colab_type": "code",
        "colab": {
          "base_uri": "https://localhost:8080/",
          "height": 34
        },
        "outputId": "495cad73-7d35-4a9f-dcf2-c3b850f2b313"
      },
      "cell_type": "code",
      "source": [
        "loss.data"
      ],
      "execution_count": 20,
      "outputs": [
        {
          "output_type": "execute_result",
          "data": {
            "text/plain": [
              "tensor(2.3048)"
            ]
          },
          "metadata": {
            "tags": []
          },
          "execution_count": 20
        }
      ]
    },
    {
      "metadata": {
        "id": "h1_h6Iu-C0kG",
        "colab_type": "code",
        "colab": {
          "base_uri": "https://localhost:8080/",
          "height": 105
        },
        "outputId": "efed67e3-681b-4d18-e7fd-a3bb5bfb8845"
      },
      "cell_type": "code",
      "source": [
        "print('Finished Training  with: ', number_epoches, ' epoches ---------')\n",
        "\n",
        "correct = 0\n",
        "total = 0\n",
        "for data in mnist_testloader:\n",
        "    images, labels = data\n",
        "    outputs = net(Variable(images))\n",
        "    _, predicted = torch.max(outputs.data, 1)\n",
        "    total += labels.size(0)\n",
        "    correct += (predicted == labels).sum()\n",
        "\n",
        "print('--------------------------------------------------')\n",
        "print('Accuracy of the network on the %d test images: %f %%' % (\n",
        "    total, 100.0 * correct / total))"
      ],
      "execution_count": 176,
      "outputs": [
        {
          "output_type": "stream",
          "text": [
            "Finished Training  with:  10  epoches ---------\n"
          ],
          "name": "stdout"
        },
        {
          "output_type": "stream",
          "text": [
            "/usr/local/lib/python3.6/dist-packages/ipykernel_launcher.py:19: UserWarning: Implicit dimension choice for log_softmax has been deprecated. Change the call to include dim=X as an argument.\n"
          ],
          "name": "stderr"
        },
        {
          "output_type": "stream",
          "text": [
            "--------------------------------------------------\n",
            "Accuracy of the network on the 10000 test images: 94.000000 %\n"
          ],
          "name": "stdout"
        }
      ]
    },
    {
      "metadata": {
        "id": "zXX0Lpa-O5pq",
        "colab_type": "code",
        "colab": {}
      },
      "cell_type": "code",
      "source": [
        ""
      ],
      "execution_count": 0,
      "outputs": []
    }
  ]
}